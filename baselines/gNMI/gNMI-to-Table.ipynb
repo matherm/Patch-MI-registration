{
 "cells": [
  {
   "cell_type": "code",
   "execution_count": 2,
   "id": "still-defeat",
   "metadata": {},
   "outputs": [
    {
     "name": "stdout",
     "output_type": "stream",
     "text": [
      "/home/ios/GitLab/rgbd-registration/rgb-lidar-reg\n"
     ]
    }
   ],
   "source": [
    "import numpy as np\n",
    "from scipy.spatial.transform import Rotation\n",
    "import re\n",
    "import pandas as pd\n",
    "#%cd ../..\n",
    "from AutoCalibration import *"
   ]
  },
  {
   "cell_type": "code",
   "execution_count": 26,
   "id": "north-sunday",
   "metadata": {},
   "outputs": [
    {
     "name": "stdout",
     "output_type": "stream",
     "text": [
      "files 154\n"
     ]
    },
    {
     "data": {
      "text/html": [
       "<div>\n",
       "<style scoped>\n",
       "    .dataframe tbody tr th:only-of-type {\n",
       "        vertical-align: middle;\n",
       "    }\n",
       "\n",
       "    .dataframe tbody tr th {\n",
       "        vertical-align: top;\n",
       "    }\n",
       "\n",
       "    .dataframe thead th {\n",
       "        text-align: right;\n",
       "    }\n",
       "</style>\n",
       "<table border=\"1\" class=\"dataframe\">\n",
       "  <thead>\n",
       "    <tr style=\"text-align: right;\">\n",
       "      <th></th>\n",
       "      <th>Name</th>\n",
       "      <th>Distortion[cm]</th>\n",
       "      <th>MSE std</th>\n",
       "      <th>MSE mean</th>\n",
       "      <th>MSE median</th>\n",
       "      <th>angle std</th>\n",
       "      <th>angle mean</th>\n",
       "      <th>angle median</th>\n",
       "    </tr>\n",
       "  </thead>\n",
       "  <tbody>\n",
       "    <tr>\n",
       "      <th>0</th>\n",
       "      <td>Stereo</td>\n",
       "      <td>0</td>\n",
       "      <td>0.026652</td>\n",
       "      <td>0.073286</td>\n",
       "      <td>0.078613</td>\n",
       "      <td>0.725865</td>\n",
       "      <td>1.174448</td>\n",
       "      <td>0.671320</td>\n",
       "    </tr>\n",
       "    <tr>\n",
       "      <th>1</th>\n",
       "      <td>Stereo</td>\n",
       "      <td>3</td>\n",
       "      <td>0.031453</td>\n",
       "      <td>0.056806</td>\n",
       "      <td>0.051568</td>\n",
       "      <td>0.746404</td>\n",
       "      <td>1.087652</td>\n",
       "      <td>1.036639</td>\n",
       "    </tr>\n",
       "    <tr>\n",
       "      <th>2</th>\n",
       "      <td>Stereo</td>\n",
       "      <td>5</td>\n",
       "      <td>0.012065</td>\n",
       "      <td>0.056791</td>\n",
       "      <td>0.048835</td>\n",
       "      <td>0.387991</td>\n",
       "      <td>1.165849</td>\n",
       "      <td>1.321565</td>\n",
       "    </tr>\n",
       "    <tr>\n",
       "      <th>3</th>\n",
       "      <td>Seq</td>\n",
       "      <td>0</td>\n",
       "      <td>0.024446</td>\n",
       "      <td>0.072069</td>\n",
       "      <td>0.072090</td>\n",
       "      <td>0.635388</td>\n",
       "      <td>1.602684</td>\n",
       "      <td>1.201261</td>\n",
       "    </tr>\n",
       "    <tr>\n",
       "      <th>4</th>\n",
       "      <td>Seq</td>\n",
       "      <td>3</td>\n",
       "      <td>0.029107</td>\n",
       "      <td>0.055015</td>\n",
       "      <td>0.038693</td>\n",
       "      <td>0.608517</td>\n",
       "      <td>1.400491</td>\n",
       "      <td>1.297500</td>\n",
       "    </tr>\n",
       "    <tr>\n",
       "      <th>5</th>\n",
       "      <td>Seq</td>\n",
       "      <td>5</td>\n",
       "      <td>0.008991</td>\n",
       "      <td>0.063328</td>\n",
       "      <td>0.068539</td>\n",
       "      <td>0.316067</td>\n",
       "      <td>1.489513</td>\n",
       "      <td>1.464839</td>\n",
       "    </tr>\n",
       "  </tbody>\n",
       "</table>\n",
       "</div>"
      ],
      "text/plain": [
       "     Name  Distortion[cm]   MSE std  MSE mean  MSE median  angle std  \\\n",
       "0  Stereo               0  0.026652  0.073286    0.078613   0.725865   \n",
       "1  Stereo               3  0.031453  0.056806    0.051568   0.746404   \n",
       "2  Stereo               5  0.012065  0.056791    0.048835   0.387991   \n",
       "3     Seq               0  0.024446  0.072069    0.072090   0.635388   \n",
       "4     Seq               3  0.029107  0.055015    0.038693   0.608517   \n",
       "5     Seq               5  0.008991  0.063328    0.068539   0.316067   \n",
       "\n",
       "   angle mean  angle median  \n",
       "0    1.174448      0.671320  \n",
       "1    1.087652      1.036639  \n",
       "2    1.165849      1.321565  \n",
       "3    1.602684      1.201261  \n",
       "4    1.400491      1.297500  \n",
       "5    1.489513      1.464839  "
      ]
     },
     "execution_count": 26,
     "metadata": {},
     "output_type": "execute_result"
    }
   ],
   "source": [
    "cal_stereo = np.load(\"./calib/multisense_seq_stereo_TR_icp_dist_to_new_improved_GT.npy\")\n",
    "cal_seq = np.load(\"calib/multisense_seq_27_RT_old_to_new_recentered_GT.npy\")\n",
    "cal_kitti = PyKitti2(\"/home/ios/data3/kitti/tracking/training/\", \"0000\", with_labels=\"mask\").calib.P_rect_20\n",
    "\n",
    "                     \n",
    "frame = []\n",
    "\n",
    "repetitions = 5\n",
    "\n",
    "stereo_0 = []\n",
    "stereo_3 = []\n",
    "stereo_5 = []\n",
    "\n",
    "seq0 = []\n",
    "seq3 = []\n",
    "seq5 = []\n",
    "\n",
    "#filename = \"/home/ios/GitHub/automatic_lidar_camera_calibration/gNMI_results_std_new.txt\"\n",
    "#filename = \"/home/ios/GitHub/automatic_lidar_camera_calibration/gNMI_results_stereo_005.txt\"\n",
    "#filename = \"/home/ios/GitHub/automatic_lidar_camera_calibration/gNMI_results_stereo_007.txt\"\n",
    "#filename = \"/home/ios/GitHub/automatic_lidar_camera_calibration/gNMI_results_stereo_0_2_6.txt\"\n",
    "filename = \"/home/ios/GitHub/automatic_lidar_camera_calibration/gNMI_results_0_2_6.txt\"\n",
    "\n",
    "with open(filename, \"r\") as file:\n",
    "    lines = []\n",
    "    count = 0\n",
    "    run = 0\n",
    "    for line in file:\n",
    "        if line.startswith(\"x\"):\n",
    "            count += 1\n",
    "        \n",
    "            if run == 0:\n",
    "                stereo_0.append(line)\n",
    "            elif run == 1:\n",
    "                stereo_3.append(line)\n",
    "            elif run == 2:\n",
    "                stereo_5.append(line)\n",
    "            elif run == 3:\n",
    "                seq0.append(line)\n",
    "            elif run == 4:\n",
    "                seq3.append(line)\n",
    "            elif run == 5:\n",
    "                seq5.append(line)\n",
    "            if count % repetitions == 0:\n",
    "                run += 1\n",
    "                 \n",
    "stereo = [stereo_0, stereo_3, stereo_5]\n",
    "seq = [seq0, seq3, seq5]\n",
    "            \n",
    "for name, seq, cal in zip([\"Stereo\", \"Seq\"], [stereo, seq], [cal_stereo, cal_seq]):\n",
    "\n",
    "    true_R = cal[:3, :3]\n",
    "    true_xyz = cal[:3, 3]\n",
    "    true_y, true_p, true_r = Rotation.from_matrix(true_R).as_euler(\"zyx\", degrees=True)\n",
    "    \n",
    "    for s, d in zip(stereo, [0, 3, 5]):\n",
    "        mses = np.array([])\n",
    "        angles = np.array([])\n",
    "        for i in range(repetitions):\n",
    "            x, y, z, roll, pitch, yaw = re.findall('[xyzrp]_?[deg]{0,3}:\\s([-]{0,1}\\d*.\\d*)\\[[mdeg]{1,3}\\],?\\s?', s[i]) \n",
    "            R_est = Rotation.from_euler(\"zyx\", [yaw, pitch, roll], degrees=True).as_matrix()\n",
    "            mses = np.append(mses, np.linalg.norm( true_xyz - np.asarray([x, y, z]).astype(np.float32)))\n",
    "            angles = np.append(angles, quat_diff(true_R, R_est))\n",
    "            \n",
    "        mse_std = np.std(mses)\n",
    "        mse_mean = np.mean(mses)\n",
    "        mse_median = np.median(mses)\n",
    "\n",
    "        angle_std = np.std(angles)\n",
    "        angle_mean = np.mean(angles)\n",
    "        angle_median = np.median(angles)\n",
    "\n",
    "        frame.append([name, d, mse_std, mse_mean, mse_median, angle_std, angle_mean, angle_median])\n",
    "        \n",
    "frame = pd.DataFrame(frame, columns=[\"Name\" , \"Distortion[cm]\", \"MSE std\", \"MSE mean\", \"MSE median\", \"angle std\", \"angle mean\", \"angle median\"])\n",
    "frame\n",
    "        "
   ]
  },
  {
   "cell_type": "code",
   "execution_count": 50,
   "id": "former-classification",
   "metadata": {},
   "outputs": [
    {
     "data": {
      "text/plain": [
       "(88.17591584732864, 0.07559838260835568, 90.40399105866382)"
      ]
     },
     "execution_count": 50,
     "metadata": {},
     "output_type": "execute_result"
    }
   ],
   "source": [
    "true_y, true_p, true_r"
   ]
  },
  {
   "cell_type": "code",
   "execution_count": 51,
   "id": "realistic-duncan",
   "metadata": {},
   "outputs": [
    {
     "data": {
      "text/plain": [
       "('89.016594', '-0.773366', '91.698709')"
      ]
     },
     "execution_count": 51,
     "metadata": {},
     "output_type": "execute_result"
    }
   ],
   "source": [
    "yaw, pitch, roll"
   ]
  },
  {
   "cell_type": "code",
   "execution_count": 1,
   "id": "broad-marker",
   "metadata": {},
   "outputs": [
    {
     "name": "stdout",
     "output_type": "stream",
     "text": [
      "['../../datasets', '', '/home/ios/anaconda3/envs/lccnet/lib/python36.zip', '/home/ios/anaconda3/envs/lccnet/lib/python3.6', '/home/ios/anaconda3/envs/lccnet/lib/python3.6/lib-dynload', '/home/ios/anaconda3/envs/lccnet/lib/python3.6/site-packages', '/home/ios/anaconda3/envs/lccnet/lib/python3.6/site-packages/correlation_cuda-0.0.0-py3.6-linux-x86_64.egg', '/home/ios/anaconda3/envs/lccnet/lib/python3.6/site-packages/IPython/extensions', '/home/ios/.ipython']\n",
      "Jupyter environment detected. Enabling Open3D WebVisualizer.\n",
      "[Open3D INFO] WebRTC GUI backend enabled.\n",
      "[Open3D INFO] WebRTCWindowSystem: HTTP handshake server disabled.\n"
     ]
    }
   ],
   "source": [
    "import sys\n",
    "sys.path.insert(0, '../../datasets')\n",
    "print(sys.path)\n",
    "from PyKitti2Dataset import PyKitti2"
   ]
  },
  {
   "cell_type": "code",
   "execution_count": 4,
   "id": "e37418d4-f16f-48f4-90a3-c5c72ce2a8ec",
   "metadata": {},
   "outputs": [
    {
     "name": "stdout",
     "output_type": "stream",
     "text": [
      "files 294\n"
     ]
    },
    {
     "data": {
      "text/html": [
       "<div>\n",
       "<style scoped>\n",
       "    .dataframe tbody tr th:only-of-type {\n",
       "        vertical-align: middle;\n",
       "    }\n",
       "\n",
       "    .dataframe tbody tr th {\n",
       "        vertical-align: top;\n",
       "    }\n",
       "\n",
       "    .dataframe thead th {\n",
       "        text-align: right;\n",
       "    }\n",
       "</style>\n",
       "<table border=\"1\" class=\"dataframe\">\n",
       "  <thead>\n",
       "    <tr style=\"text-align: right;\">\n",
       "      <th></th>\n",
       "      <th>Name</th>\n",
       "      <th>Distortion[cm]</th>\n",
       "      <th>MSE std</th>\n",
       "      <th>MSE mean</th>\n",
       "      <th>MSE median</th>\n",
       "      <th>angle std</th>\n",
       "      <th>angle mean</th>\n",
       "      <th>angle median</th>\n",
       "    </tr>\n",
       "  </thead>\n",
       "  <tbody>\n",
       "    <tr>\n",
       "      <th>0</th>\n",
       "      <td>KITTI</td>\n",
       "      <td>6</td>\n",
       "      <td>0.047937</td>\n",
       "      <td>0.084811</td>\n",
       "      <td>0.088513</td>\n",
       "      <td>5.691025</td>\n",
       "      <td>8.170018</td>\n",
       "      <td>11.393538</td>\n",
       "    </tr>\n",
       "  </tbody>\n",
       "</table>\n",
       "</div>"
      ],
      "text/plain": [
       "    Name  Distortion[cm]   MSE std  MSE mean  MSE median  angle std  \\\n",
       "0  KITTI               6  0.047937  0.084811    0.088513   5.691025   \n",
       "\n",
       "   angle mean  angle median  \n",
       "0    8.170018     11.393538  "
      ]
     },
     "execution_count": 4,
     "metadata": {},
     "output_type": "execute_result"
    }
   ],
   "source": [
    "cal_kitti = PyKitti2(\"/home/ios/data3/kitti/tracking/training/\", \"0010\", with_labels=\"mask\").calib.T_cam2_velo\n",
    "                  \n",
    "frame = []\n",
    "\n",
    "repetitions = 5\n",
    "\n",
    "kitti = []\n",
    "\n",
    "filename = \"/home/ios/GitHub/automatic_lidar_camera_calibration/gNMI_results_kitti.txt\"\n",
    "\n",
    "with open(filename, \"r\") as file:\n",
    "    lines = []\n",
    "    for line in file:\n",
    "        if line.startswith(\"x\"):\n",
    "            kitti.append(line)\n",
    "            \n",
    "for name, seq, cal in zip([\"KITTI\"], [kitti], [cal_kitti]):\n",
    "    true_R = cal[:3, :3]\n",
    "    true_xyz = cal[:3, 3]\n",
    "    true_y, true_p, true_r = Rotation.from_matrix(true_R).as_euler(\"zyx\", degrees=True)\n",
    "    \n",
    "    mses = np.array([])\n",
    "    angles = np.array([])\n",
    "    for i in range(repetitions):\n",
    "        x, y, z, roll, pitch, yaw = re.findall('[xyzrp]_?[deg]{0,3}:\\s([-]{0,1}\\d*.\\d*)\\[[mdeg]{1,3}\\],?\\s?', kitti[i]) \n",
    "        R_est = Rotation.from_euler(\"zyx\", [yaw, pitch, roll], degrees=True).as_matrix()\n",
    "        mses = np.append(mses, np.linalg.norm( true_xyz - np.asarray([x, y, z]).astype(np.float32)))\n",
    "        angles = np.append(angles, quat_diff(true_R, R_est))\n",
    "\n",
    "    mse_std = np.std(mses)\n",
    "    mse_mean = np.mean(mses)\n",
    "    mse_median = np.median(mses)\n",
    "\n",
    "\n",
    "    angle_std = np.std(angles)\n",
    "    angle_mean = np.mean(angles)\n",
    "    angle_median = np.median(angles)\n",
    "\n",
    "    frame.append([name, 6, mse_std, mse_mean, mse_median, angle_std, angle_mean, angle_median])\n",
    "        \n",
    "frame = pd.DataFrame(frame, columns=[\"Name\" , \"Distortion[cm]\", \"MSE std\", \"MSE mean\", \"MSE median\", \"angle std\", \"angle mean\", \"angle median\"])\n",
    "frame"
   ]
  },
  {
   "cell_type": "code",
   "execution_count": 12,
   "id": "f296548f-a124-4f61-a1b0-ac3c5ba79ec8",
   "metadata": {},
   "outputs": [
    {
     "data": {
      "text/plain": [
       "'/home/ios/GitLab/rgbd-registration/rgb-lidar-reg/baselines/gNMI'"
      ]
     },
     "execution_count": 12,
     "metadata": {},
     "output_type": "execute_result"
    }
   ],
   "source": [
    "%pwd"
   ]
  },
  {
   "cell_type": "code",
   "execution_count": null,
   "id": "cc16c198-0bbc-48b2-976d-d1b9df9652d6",
   "metadata": {},
   "outputs": [],
   "source": []
  }
 ],
 "metadata": {
  "kernelspec": {
   "display_name": "Python 3 (ipykernel)",
   "language": "python",
   "name": "python3"
  },
  "language_info": {
   "codemirror_mode": {
    "name": "ipython",
    "version": 3
   },
   "file_extension": ".py",
   "mimetype": "text/x-python",
   "name": "python",
   "nbconvert_exporter": "python",
   "pygments_lexer": "ipython3",
   "version": "3.7.7"
  }
 },
 "nbformat": 4,
 "nbformat_minor": 5
}
