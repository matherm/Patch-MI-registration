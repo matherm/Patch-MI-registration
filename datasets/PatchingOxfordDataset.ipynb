{
 "cells": [
  {
   "cell_type": "code",
   "execution_count": 1,
   "id": "bb2901b6",
   "metadata": {},
   "outputs": [
    {
     "name": "stdout",
     "output_type": "stream",
     "text": [
      "LICENSE  README.md  \u001b[0m\u001b[01;34mextrinsics\u001b[0m/  \u001b[01;34mmatlab\u001b[0m/  \u001b[01;34mmodels\u001b[0m/  \u001b[01;34mpython\u001b[0m/  \u001b[01;34mtags\u001b[0m/\r\n"
     ]
    }
   ],
   "source": [
    "ls ../../../GitHub/robotcar-dataset-sdk/"
   ]
  },
  {
   "cell_type": "code",
   "execution_count": 19,
   "id": "589898f0",
   "metadata": {},
   "outputs": [
    {
     "name": "stdout",
     "output_type": "stream",
     "text": [
      "iss_volume.zip\tiss_zip  sift_patch_1.zip  sift_patch_2.zip  sift_zip\n",
      "ins.txt        lms_rear.txt   mono_right.txt  velodyne_left.txt\n",
      "ldmrs.txt      mono_left.txt  radar.txt       velodyne_right.txt\n",
      "lms_front.txt  mono_rear.txt  stereo.txt\n",
      "-0.0905 1.6375 0.2803 0.2079 -0.2339 1.2321\n"
     ]
    }
   ],
   "source": [
    "sdk_path = \"/home/ios/GitHub/robotcar-dataset-sdk\"\n",
    "oxford_path = \"/home/ios/data2/3d-data/oxford\"\n",
    "\n",
    "import sys\n",
    "sys.path.append(sdk_path + \"/python\")\n",
    "!ls {oxford_path}\n",
    "!ls {extrinsics_dir}\n",
    "!cat {extrinsics_dir}/mono_left.txt"
   ]
  },
  {
   "cell_type": "code",
   "execution_count": 3,
   "id": "3e912ef4",
   "metadata": {},
   "outputs": [
    {
     "name": "stderr",
     "output_type": "stream",
     "text": [
      "INFO - 2021-09-10 07:40:55,289 - utils - Note: NumExpr detected 16 cores but \"NUMEXPR_MAX_THREADS\" not set, so enforcing safe limit of 8.\n",
      "INFO - 2021-09-10 07:40:55,290 - utils - NumExpr defaulting to 8 threads.\n"
     ]
    }
   ],
   "source": [
    "import argparse\n",
    "from argparse import RawTextHelpFormatter\n",
    "import os\n",
    "from velodyne import load_velodyne_raw, load_velodyne_binary, velodyne_raw_to_pointcloud\n",
    "import numpy as np\n",
    "import cv2\n",
    "from matplotlib.cm import get_cmap\n",
    "from scipy import interpolate\n",
    "import open3d\n",
    "from transform import build_se3_transform\n",
    "import meshplot"
   ]
  },
  {
   "cell_type": "code",
   "execution_count": 4,
   "id": "411ca4ae",
   "metadata": {},
   "outputs": [
    {
     "name": "stdout",
     "output_type": "stream",
     "text": [
      "ins.txt        lms_rear.txt   mono_right.txt  velodyne_left.txt\r\n",
      "ldmrs.txt      mono_left.txt  radar.txt       velodyne_right.txt\r\n",
      "lms_front.txt  mono_rear.txt  stereo.txt\r\n"
     ]
    }
   ],
   "source": [
    "im_dir_left = oxford_path + \"/mono_left\"\n",
    "im_dir_right = oxford_path + \"/mono_right\"\n",
    "poses_file = oxford_path + \"/gps/ins.csv\"\n",
    "extrinsics_dir = sdk_path + \"/extrinsics\"\n",
    "models = sdk_path + \"/models\"\n",
    "lidar_dir = oxford_path + \"/ldmrs\"\n",
    "!ls {extrinsics_dir}"
   ]
  },
  {
   "cell_type": "code",
   "execution_count": 5,
   "id": "7cd61e45",
   "metadata": {},
   "outputs": [],
   "source": [
    "import os\n",
    "import re\n",
    "import numpy as np\n",
    "\n",
    "from transform import build_se3_transform\n",
    "from interpolate_poses import interpolate_vo_poses, interpolate_ins_poses\n",
    "from velodyne import load_velodyne_raw, load_velodyne_binary, velodyne_raw_to_pointcloud\n",
    "\n",
    "def build_pointcloud(lidar_dir, poses_file, extrinsics_dir, start_time, end_time, origin_time=-1):\n",
    "    \"\"\"Builds a pointcloud by combining multiple LIDAR scans with odometry information.\n",
    "    Args:\n",
    "        lidar_dir (str): Directory containing LIDAR scans.\n",
    "        poses_file (str): Path to a file containing pose information. Can be VO or INS data.\n",
    "        extrinsics_dir (str): Directory containing extrinsic calibrations.\n",
    "        start_time (int): UNIX timestamp of the start of the window over which to build the pointcloud.\n",
    "        end_time (int): UNIX timestamp of the end of the window over which to build the pointcloud.\n",
    "        origin_time (int): UNIX timestamp of origin frame. Pointcloud coordinates are relative to this frame.\n",
    "    Returns:\n",
    "        numpy.ndarray: 3xn array of (x, y, z) coordinates of pointcloud\n",
    "        numpy.array: array of n reflectance values or None if no reflectance values are recorded (LDMRS)\n",
    "    Raises:\n",
    "        ValueError: if specified window doesn't contain any laser scans.\n",
    "        IOError: if scan files are not found.\n",
    "    \"\"\"\n",
    "    if origin_time < 0:\n",
    "        origin_time = start_time\n",
    "\n",
    "    lidar = re.search('(lms_front|lms_rear|ldmrs|velodyne_left|velodyne_right)', lidar_dir).group(0)\n",
    "    timestamps_path = os.path.join(lidar_dir, os.pardir, lidar + '.timestamps')\n",
    "\n",
    "    timestamps = []\n",
    "    \n",
    "    with open(timestamps_path) as timestamps_file:\n",
    "        for line in timestamps_file:\n",
    "            timestamp = int(line.split(' ')[0])\n",
    "            if start_time <= timestamp <= end_time:\n",
    "                timestamps.append(timestamp)\n",
    "\n",
    "    print(\"Processing\" , len(timestamps) , \" scans.\")\n",
    "    if len(timestamps) == 0:\n",
    "        raise ValueError(\"No LIDAR data in the given time bracket.\")\n",
    "\n",
    "    with open(os.path.join(extrinsics_dir, lidar + '.txt')) as extrinsics_file:\n",
    "        extrinsics = next(extrinsics_file)\n",
    "    G_posesource_laser = build_se3_transform([float(x) for x in extrinsics.split(' ')])\n",
    "\n",
    "    poses_type = re.search('(vo|ins|rtk)\\.csv', poses_file).group(1)\n",
    "\n",
    "    if poses_type in ['ins', 'rtk']:\n",
    "        with open(os.path.join(extrinsics_dir, 'ins.txt')) as extrinsics_file:\n",
    "            extrinsics = next(extrinsics_file)\n",
    "            G_posesource_laser = np.linalg.solve(build_se3_transform([float(x) for x in extrinsics.split(' ')]),\n",
    "                                                 G_posesource_laser)\n",
    "\n",
    "        poses = interpolate_ins_poses(poses_file, timestamps, origin_time, use_rtk=(poses_type == 'rtk'))\n",
    "    else:\n",
    "        # sensor is VO, which is located at the main vehicle frame\n",
    "        poses = interpolate_vo_poses(poses_file, timestamps, origin_time)\n",
    "\n",
    "    pointcloud = np.array([[0], [0], [0], [0]])\n",
    "    if lidar == 'ldmrs':\n",
    "        reflectance = None\n",
    "    else:\n",
    "        reflectance = np.empty((0))\n",
    "\n",
    "    for i in range(0, len(poses)):\n",
    "        scan_path = os.path.join(lidar_dir, str(timestamps[i]) + '.bin')\n",
    "        if \"velodyne\" not in lidar:\n",
    "            if not os.path.isfile(scan_path):\n",
    "                continue\n",
    "\n",
    "            scan_file = open(scan_path)\n",
    "            scan = np.fromfile(scan_file, np.double)\n",
    "            scan_file.close()\n",
    "\n",
    "            scan = scan.reshape((len(scan) // 3, 3)).transpose()\n",
    "\n",
    "            if lidar != 'ldmrs':\n",
    "                # LMS scans are tuples of (x, y, reflectance)\n",
    "                reflectance = np.concatenate((reflectance, np.ravel(scan[2, :])))\n",
    "                scan[2, :] = np.zeros((1, scan.shape[1]))\n",
    "        else:\n",
    "            if os.path.isfile(scan_path):\n",
    "                ptcld = load_velodyne_binary(scan_path)\n",
    "            else:\n",
    "                scan_path = os.path.join(lidar_dir, str(timestamps[i]) + '.png')\n",
    "                if not os.path.isfile(scan_path):\n",
    "                    continue\n",
    "                ranges, intensities, angles, approximate_timestamps = load_velodyne_raw(scan_path)\n",
    "                ptcld = velodyne_raw_to_pointcloud(ranges, intensities, angles)\n",
    "\n",
    "            reflectance = np.concatenate((reflectance, ptcld[3]))\n",
    "            scan = ptcld[:3]\n",
    "\n",
    "        scan = np.dot(np.dot(poses[i], G_posesource_laser), np.vstack([scan, np.ones((1, scan.shape[1]))]))\n",
    "        pointcloud = np.hstack([pointcloud, scan])\n",
    "\n",
    "    pointcloud = pointcloud[:, 1:]\n",
    "    if pointcloud.shape[1] == 0:\n",
    "        raise IOError(\"Could not find scan files for given time range in directory \" + lidar_dir)\n",
    "\n",
    "    return pointcloud, reflectance, poses"
   ]
  },
  {
   "cell_type": "code",
   "execution_count": 6,
   "id": "2b05f3c4",
   "metadata": {},
   "outputs": [],
   "source": [
    "import argparse\n",
    "import os\n",
    "import re\n",
    "import matplotlib.pyplot as plt\n",
    "from datetime import datetime as dt\n",
    "from image import load_image\n",
    "from camera_model import CameraModel\n",
    "\n",
    "def play_camera(im_dir = im_dir_left, models = models, start_time=0, end_time=1):\n",
    "    \n",
    "    camera = re.search('(stereo|mono_(left|right|rear))', im_dir).group(0)\n",
    "    timestamps_path = os.path.join(os.path.join(im_dir, os.pardir, camera + '.timestamps'))\n",
    "    model = CameraModel(models, im_dir)\n",
    "    current_chunk = 0\n",
    "    timestamps_file = open(timestamps_path)\n",
    "    \n",
    "    i = 0\n",
    "    IM = []\n",
    "    for line in timestamps_file:\n",
    "        tokens = line.split()    \n",
    "        timestamp = int(tokens[0])\n",
    "        if start_time <= timestamp <= end_time:\n",
    "        \n",
    "            datetime = dt.utcfromtimestamp(timestamp/1000000)\n",
    "            chunk = int(tokens[1])\n",
    "\n",
    "            filename = os.path.join(im_dir, tokens[0] + '.png')\n",
    "            if not os.path.isfile(filename):\n",
    "                if chunk != current_chunk:\n",
    "                    print(\"Chunk \" + str(chunk) + \" not found\")\n",
    "                    current_chunk = chunk\n",
    "                continue\n",
    "\n",
    "            current_chunk = chunk\n",
    "\n",
    "            img = load_image(filename, model)\n",
    "            IM.append(img)\n",
    "            #plt.imshow(img)\n",
    "            #plt.ylabel(i)\n",
    "            #plt.xlabel(datetime)\n",
    "            #plt.xticks([])\n",
    "            #plt.yticks([])\n",
    "            #plt.pause(0.01)            \n",
    "        i += 1\n",
    "    return np.asarray(IM)"
   ]
  },
  {
   "cell_type": "code",
   "execution_count": 20,
   "id": "d5d9c967",
   "metadata": {},
   "outputs": [
    {
     "ename": "FileNotFoundError",
     "evalue": "[Errno 2] No such file or directory: '/home/ios/data/oxford_sample/mono_left/../../mono_left.timestamps'",
     "output_type": "error",
     "traceback": [
      "\u001b[0;31m---------------------------------------------------------------------------\u001b[0m",
      "\u001b[0;31mFileNotFoundError\u001b[0m                         Traceback (most recent call last)",
      "\u001b[0;32m<ipython-input-20-a1477dd86de8>\u001b[0m in \u001b[0;36m<module>\u001b[0;34m\u001b[0m\n\u001b[1;32m     57\u001b[0m     \u001b[0;32mreturn\u001b[0m \u001b[0mimage\u001b[0m\u001b[0;34m,\u001b[0m \u001b[0mdepth\u001b[0m\u001b[0;34m,\u001b[0m \u001b[0muv\u001b[0m\u001b[0;34m,\u001b[0m \u001b[0mpointcloud\u001b[0m\u001b[0;34m\u001b[0m\u001b[0;34m\u001b[0m\u001b[0m\n\u001b[1;32m     58\u001b[0m \u001b[0;34m\u001b[0m\u001b[0m\n\u001b[0;32m---> 59\u001b[0;31m \u001b[0mimage\u001b[0m\u001b[0;34m,\u001b[0m \u001b[0mdepth\u001b[0m\u001b[0;34m,\u001b[0m \u001b[0muv\u001b[0m\u001b[0;34m,\u001b[0m \u001b[0mpointcloud\u001b[0m \u001b[0;34m=\u001b[0m \u001b[0mproject_laser_to_image\u001b[0m\u001b[0;34m(\u001b[0m\u001b[0;34m)\u001b[0m\u001b[0;34m\u001b[0m\u001b[0;34m\u001b[0m\u001b[0m\n\u001b[0m",
      "\u001b[0;32m<ipython-input-20-a1477dd86de8>\u001b[0m in \u001b[0;36mproject_laser_to_image\u001b[0;34m(image_idx, im_dir, models, extrinsics_dir, poses_file, lidar_dir)\u001b[0m\n\u001b[1;32m     34\u001b[0m \u001b[0;34m\u001b[0m\u001b[0m\n\u001b[1;32m     35\u001b[0m     \u001b[0mtimestamp\u001b[0m \u001b[0;34m=\u001b[0m \u001b[0;36m0\u001b[0m\u001b[0;34m\u001b[0m\u001b[0;34m\u001b[0m\u001b[0m\n\u001b[0;32m---> 36\u001b[0;31m     \u001b[0;32mwith\u001b[0m \u001b[0mopen\u001b[0m\u001b[0;34m(\u001b[0m\u001b[0mtimestamps_path\u001b[0m\u001b[0;34m)\u001b[0m \u001b[0;32mas\u001b[0m \u001b[0mtimestamps_file\u001b[0m\u001b[0;34m:\u001b[0m\u001b[0;34m\u001b[0m\u001b[0;34m\u001b[0m\u001b[0m\n\u001b[0m\u001b[1;32m     37\u001b[0m         \u001b[0;32mfor\u001b[0m \u001b[0mi\u001b[0m\u001b[0;34m,\u001b[0m \u001b[0mline\u001b[0m \u001b[0;32min\u001b[0m \u001b[0menumerate\u001b[0m\u001b[0;34m(\u001b[0m\u001b[0mtimestamps_file\u001b[0m\u001b[0;34m)\u001b[0m\u001b[0;34m:\u001b[0m\u001b[0;34m\u001b[0m\u001b[0;34m\u001b[0m\u001b[0m\n\u001b[1;32m     38\u001b[0m             \u001b[0;32mif\u001b[0m \u001b[0mi\u001b[0m \u001b[0;34m==\u001b[0m \u001b[0mimage_idx\u001b[0m\u001b[0;34m:\u001b[0m\u001b[0;34m\u001b[0m\u001b[0;34m\u001b[0m\u001b[0m\n",
      "\u001b[0;31mFileNotFoundError\u001b[0m: [Errno 2] No such file or directory: '/home/ios/data/oxford_sample/mono_left/../../mono_left.timestamps'"
     ]
    }
   ],
   "source": [
    "import os\n",
    "import re\n",
    "import numpy as np\n",
    "import matplotlib.pyplot as plt\n",
    "import argparse\n",
    "from build_pointcloud import build_pointcloud\n",
    "from transform import build_se3_transform\n",
    "from image import load_image\n",
    "from camera_model import CameraModel\n",
    "\n",
    "def project_laser_to_image(image_idx=10, im_dir = im_dir_left, models = models, extrinsics_dir=extrinsics_dir, poses_file=poses_file, lidar_dir=lidar_dir):\n",
    "\n",
    "    model = CameraModel(models, im_dir)\n",
    "\n",
    "    extrinsics_path = os.path.join(extrinsics_dir, model.camera + '.txt')\n",
    "    with open(extrinsics_path) as extrinsics_file:\n",
    "        extrinsics = [float(x) for x in next(extrinsics_file).split(' ')]\n",
    "\n",
    "    G_camera_vehicle = build_se3_transform(extrinsics)\n",
    "    G_camera_posesource = None\n",
    "\n",
    "    poses_type = re.search('(vo|ins|rtk)\\.csv', poses_file).group(1)\n",
    "    if poses_type in ['ins', 'rtk']:\n",
    "        with open(os.path.join(extrinsics_dir, 'ins.txt')) as extrinsics_file:\n",
    "            extrinsics = next(extrinsics_file)\n",
    "            G_camera_posesource = G_camera_vehicle * build_se3_transform([float(x) for x in extrinsics.split(' ')])\n",
    "    else:\n",
    "        # VO frame and vehicle frame are the same\n",
    "        G_camera_posesource = G_camera_vehicle\n",
    "\n",
    "    timestamps_path = os.path.join(im_dir, os.pardir, model.camera + '.timestamps')\n",
    "    if not os.path.isfile(timestamps_path):\n",
    "        timestamps_path = os.path.join(im_dir, os.pardir, os.pardir, model.camera + '.timestamps')\n",
    "\n",
    "    timestamp = 0\n",
    "    with open(timestamps_path) as timestamps_file:\n",
    "        for i, line in enumerate(timestamps_file):\n",
    "            if i == image_idx:\n",
    "                timestamp = int(line.split(' ')[0])\n",
    "\n",
    "    pointcloud, reflectance = build_pointcloud(lidar_dir, poses_file, extrinsics_dir,\n",
    "                                               timestamp - 1e7, timestamp + 1e7, timestamp)\n",
    "    pointcloud = np.dot(G_camera_posesource, pointcloud)\n",
    "    image_path = os.path.join(im_dir, str(timestamp) + '.png')\n",
    "    image = load_image(image_path, model)\n",
    "\n",
    "    uv, depth = model.project(pointcloud, image.shape)\n",
    "\n",
    "    # plt.imshow(image)\n",
    "    # plt.scatter(np.ravel(uv[0, :]), np.ravel(uv[1, :]), s=2, c=depth, edgecolors='none', cmap='jet')\n",
    "    # plt.xlim(0, image.shape[1])\n",
    "    # plt.ylim(image.shape[0], 0)\n",
    "    # plt.xticks([])\n",
    "    # plt.yticks([])\n",
    "    # plt.show()\n",
    "    \n",
    "    return image, depth, uv, pointcloud\n",
    "    \n",
    "image, depth, uv, pointcloud = project_laser_to_image()"
   ]
  },
  {
   "cell_type": "code",
   "execution_count": 8,
   "id": "c5af8af8",
   "metadata": {},
   "outputs": [
    {
     "ename": "NameError",
     "evalue": "name 'pointcloud' is not defined",
     "output_type": "error",
     "traceback": [
      "\u001b[0;31m---------------------------------------------------------------------------\u001b[0m",
      "\u001b[0;31mNameError\u001b[0m                                 Traceback (most recent call last)",
      "\u001b[0;32m<ipython-input-8-3287b9fc9ba0>\u001b[0m in \u001b[0;36m<module>\u001b[0;34m\u001b[0m\n\u001b[0;32m----> 1\u001b[0;31m \u001b[0mpc\u001b[0m \u001b[0;34m=\u001b[0m \u001b[0mnp\u001b[0m\u001b[0;34m.\u001b[0m\u001b[0masarray\u001b[0m\u001b[0;34m(\u001b[0m\u001b[0mpointcloud\u001b[0m\u001b[0;34m.\u001b[0m\u001b[0mT\u001b[0m\u001b[0;34m[\u001b[0m\u001b[0;34m:\u001b[0m\u001b[0;34m,\u001b[0m \u001b[0;34m:\u001b[0m\u001b[0;36m3\u001b[0m\u001b[0;34m]\u001b[0m\u001b[0;34m.\u001b[0m\u001b[0mastype\u001b[0m\u001b[0;34m(\u001b[0m\u001b[0mnp\u001b[0m\u001b[0;34m.\u001b[0m\u001b[0mfloat32\u001b[0m\u001b[0;34m)\u001b[0m\u001b[0;34m)\u001b[0m\u001b[0;34m\u001b[0m\u001b[0;34m\u001b[0m\u001b[0m\n\u001b[0m\u001b[1;32m      2\u001b[0m \u001b[0mmeshplot\u001b[0m\u001b[0;34m.\u001b[0m\u001b[0mplot\u001b[0m\u001b[0;34m(\u001b[0m\u001b[0mpc\u001b[0m\u001b[0;34m,\u001b[0m \u001b[0mc\u001b[0m\u001b[0;34m=\u001b[0m\u001b[0mpc\u001b[0m\u001b[0;34m[\u001b[0m\u001b[0;34m:\u001b[0m\u001b[0;34m,\u001b[0m \u001b[0;36m1\u001b[0m\u001b[0;34m]\u001b[0m\u001b[0;34m,\u001b[0m \u001b[0mshading\u001b[0m\u001b[0;34m=\u001b[0m\u001b[0;34m{\u001b[0m\u001b[0;34m\"point_size\"\u001b[0m\u001b[0;34m:\u001b[0m \u001b[0;36m0.5\u001b[0m\u001b[0;34m,\u001b[0m \u001b[0;34m\"width\"\u001b[0m\u001b[0;34m:\u001b[0m \u001b[0;36m400\u001b[0m\u001b[0;34m,\u001b[0m \u001b[0;34m\"height\"\u001b[0m\u001b[0;34m:\u001b[0m \u001b[0;36m400\u001b[0m\u001b[0;34m}\u001b[0m\u001b[0;34m)\u001b[0m\u001b[0;34m\u001b[0m\u001b[0;34m\u001b[0m\u001b[0m\n",
      "\u001b[0;31mNameError\u001b[0m: name 'pointcloud' is not defined"
     ]
    }
   ],
   "source": [
    "pc = np.asarray(pointcloud.T[:, :3].astype(np.float32))\n",
    "meshplot.plot(pc, c=pc[:, 1], shading={\"point_size\": 0.5, \"width\": 400, \"height\": 400})"
   ]
  },
  {
   "cell_type": "code",
   "execution_count": 9,
   "id": "94d63a2e",
   "metadata": {},
   "outputs": [
    {
     "ename": "FileNotFoundError",
     "evalue": "[Errno 2] No such file or directory: '/home/ios/data/oxford_sample/mono_left/../mono_left.timestamps'",
     "output_type": "error",
     "traceback": [
      "\u001b[0;31m---------------------------------------------------------------------------\u001b[0m",
      "\u001b[0;31mFileNotFoundError\u001b[0m                         Traceback (most recent call last)",
      "\u001b[0;32m<ipython-input-9-c8e24da4cec8>\u001b[0m in \u001b[0;36m<module>\u001b[0;34m\u001b[0m\n\u001b[1;32m      1\u001b[0m \u001b[0msec\u001b[0m \u001b[0;34m=\u001b[0m \u001b[0;36m2\u001b[0m\u001b[0;34m\u001b[0m\u001b[0;34m\u001b[0m\u001b[0m\n\u001b[0;32m----> 2\u001b[0;31m \u001b[0mIM\u001b[0m \u001b[0;34m=\u001b[0m \u001b[0mplay_camera\u001b[0m\u001b[0;34m(\u001b[0m\u001b[0mstart_time\u001b[0m\u001b[0;34m=\u001b[0m\u001b[0;36m1418381798113072\u001b[0m\u001b[0;34m,\u001b[0m \u001b[0mend_time\u001b[0m\u001b[0;34m=\u001b[0m\u001b[0;36m1418381798113072\u001b[0m \u001b[0;34m+\u001b[0m \u001b[0msec\u001b[0m \u001b[0;34m*\u001b[0m \u001b[0;36m1000\u001b[0m \u001b[0;34m*\u001b[0m \u001b[0;36m1000\u001b[0m\u001b[0;34m)\u001b[0m\u001b[0;34m\u001b[0m\u001b[0;34m\u001b[0m\u001b[0m\n\u001b[0m\u001b[1;32m      3\u001b[0m \u001b[0mIM\u001b[0m\u001b[0;34m.\u001b[0m\u001b[0mshape\u001b[0m\u001b[0;34m\u001b[0m\u001b[0;34m\u001b[0m\u001b[0m\n",
      "\u001b[0;32m<ipython-input-6-8ca262d5a3b7>\u001b[0m in \u001b[0;36mplay_camera\u001b[0;34m(im_dir, models, start_time, end_time)\u001b[0m\n\u001b[1;32m     13\u001b[0m     \u001b[0mmodel\u001b[0m \u001b[0;34m=\u001b[0m \u001b[0mCameraModel\u001b[0m\u001b[0;34m(\u001b[0m\u001b[0mmodels\u001b[0m\u001b[0;34m,\u001b[0m \u001b[0mim_dir\u001b[0m\u001b[0;34m)\u001b[0m\u001b[0;34m\u001b[0m\u001b[0;34m\u001b[0m\u001b[0m\n\u001b[1;32m     14\u001b[0m     \u001b[0mcurrent_chunk\u001b[0m \u001b[0;34m=\u001b[0m \u001b[0;36m0\u001b[0m\u001b[0;34m\u001b[0m\u001b[0;34m\u001b[0m\u001b[0m\n\u001b[0;32m---> 15\u001b[0;31m     \u001b[0mtimestamps_file\u001b[0m \u001b[0;34m=\u001b[0m \u001b[0mopen\u001b[0m\u001b[0;34m(\u001b[0m\u001b[0mtimestamps_path\u001b[0m\u001b[0;34m)\u001b[0m\u001b[0;34m\u001b[0m\u001b[0;34m\u001b[0m\u001b[0m\n\u001b[0m\u001b[1;32m     16\u001b[0m \u001b[0;34m\u001b[0m\u001b[0m\n\u001b[1;32m     17\u001b[0m     \u001b[0mi\u001b[0m \u001b[0;34m=\u001b[0m \u001b[0;36m0\u001b[0m\u001b[0;34m\u001b[0m\u001b[0;34m\u001b[0m\u001b[0m\n",
      "\u001b[0;31mFileNotFoundError\u001b[0m: [Errno 2] No such file or directory: '/home/ios/data/oxford_sample/mono_left/../mono_left.timestamps'"
     ]
    }
   ],
   "source": [
    "sec = 2\n",
    "IM = play_camera(start_time=1418381798113072, end_time=1418381798113072 + sec * 1000 * 1000)\n",
    "IM.shape"
   ]
  },
  {
   "cell_type": "code",
   "execution_count": 10,
   "id": "57cde297",
   "metadata": {},
   "outputs": [
    {
     "data": {
      "text/plain": [
       "(array([[ 0.30164739, -0.95046503,  0.07500055, -1.6254    ],\n",
       "        [ 0.90174962,  0.25887064, -0.34616992,  1.6285    ],\n",
       "        [ 0.30960696,  0.17205297,  0.93516913, -1.0974    ],\n",
       "        [ 0.        ,  0.        ,  0.        ,  1.        ]]),\n",
       " array([[ 0.32721212,  0.93838189,  0.1112279 , -1.7936    ],\n",
       "        [-0.89269826,  0.26837006,  0.36203223, -1.69      ],\n",
       "        [ 0.30987425, -0.21775429,  0.92550582, -1.0551    ],\n",
       "        [ 0.        ,  0.        ,  0.        ,  1.        ]]))"
      ]
     },
     "execution_count": 10,
     "metadata": {},
     "output_type": "execute_result"
    }
   ],
   "source": [
    "def Lidar_to_Mono(extr_mono_path=extrinsics_dir + \"/mono_left.txt\", extr_lidar_path=extrinsics_dir + \"/ldmrs.txt\"):   \n",
    "    extrinsics_path = extr_mono_path\n",
    "    with open(extrinsics_path) as extrinsics_file:\n",
    "        extrinsics = [float(x) for x in next(extrinsics_file).split(' ')]\n",
    "    G_camera_vehicle = build_se3_transform(extrinsics)\n",
    "    \n",
    "    extrinsics_path = extr_lidar_path\n",
    "    with open(extrinsics_path) as extrinsics_file:\n",
    "        extrinsics = [float(x) for x in next(extrinsics_file).split(' ')]\n",
    "    G_lidar_vehicle = build_se3_transform(extrinsics)\n",
    "    \n",
    "    T = G_camera_vehicle[:3, 3] - G_lidar_vehicle[:3, 3]\n",
    "    R = G_camera_vehicle[:3, :3] @  G_lidar_vehicle[:3, :3].T\n",
    "    \n",
    "    SE = np.zeros((4, 4))\n",
    "    SE[:3, :3] = np.array(R)\n",
    "    SE[:3, 3] = np.array(T).flatten()\n",
    "    SE[3, 3] = 1\n",
    "    \n",
    "    return SE\n",
    "\n",
    "Lidar_to_Mono(extrinsics_dir + \"/mono_left.txt\"), Lidar_to_Mono(extrinsics_dir + \"/mono_right.txt\")"
   ]
  },
  {
   "cell_type": "code",
   "execution_count": 17,
   "id": "304428e1",
   "metadata": {},
   "outputs": [
    {
     "ename": "FileNotFoundError",
     "evalue": "[Errno 2] No such file or directory: '/home/ios/data/oxford_sample/ldmrs/../ldmrs.timestamps'",
     "output_type": "error",
     "traceback": [
      "\u001b[0;31m---------------------------------------------------------------------------\u001b[0m",
      "\u001b[0;31mFileNotFoundError\u001b[0m                         Traceback (most recent call last)",
      "\u001b[0;32m<ipython-input-17-fc22bf3ce522>\u001b[0m in \u001b[0;36m<module>\u001b[0;34m\u001b[0m\n\u001b[1;32m      1\u001b[0m \u001b[0msec\u001b[0m \u001b[0;34m=\u001b[0m \u001b[0;36m1\u001b[0m\u001b[0;34m\u001b[0m\u001b[0;34m\u001b[0m\u001b[0m\n\u001b[0;32m----> 2\u001b[0;31m \u001b[0mpointcloud\u001b[0m\u001b[0;34m,\u001b[0m \u001b[0mreflectance\u001b[0m\u001b[0;34m,\u001b[0m \u001b[0mposes\u001b[0m \u001b[0;34m=\u001b[0m \u001b[0mbuild_pointcloud\u001b[0m\u001b[0;34m(\u001b[0m\u001b[0mlidar_dir\u001b[0m\u001b[0;34m,\u001b[0m \u001b[0mposes_file\u001b[0m\u001b[0;34m,\u001b[0m \u001b[0mextrinsics_dir\u001b[0m\u001b[0;34m,\u001b[0m \u001b[0;36m1418381798113072\u001b[0m\u001b[0;34m,\u001b[0m \u001b[0;36m1418381798113072\u001b[0m \u001b[0;34m+\u001b[0m \u001b[0msec\u001b[0m \u001b[0;34m*\u001b[0m \u001b[0;36m1000\u001b[0m \u001b[0;34m*\u001b[0m \u001b[0;36m1000\u001b[0m\u001b[0;34m,\u001b[0m \u001b[0morigin_time\u001b[0m\u001b[0;34m=\u001b[0m\u001b[0;34m-\u001b[0m\u001b[0;36m1\u001b[0m\u001b[0;34m)\u001b[0m\u001b[0;34m\u001b[0m\u001b[0;34m\u001b[0m\u001b[0m\n\u001b[0m\u001b[1;32m      3\u001b[0m \u001b[0mpointcloud\u001b[0m\u001b[0;34m.\u001b[0m\u001b[0mshape\u001b[0m\u001b[0;34m\u001b[0m\u001b[0;34m\u001b[0m\u001b[0m\n",
      "\u001b[0;32m~/GitHub/robotcar-dataset-sdk/python/build_pointcloud.py\u001b[0m in \u001b[0;36mbuild_pointcloud\u001b[0;34m(lidar_dir, poses_file, extrinsics_dir, start_time, end_time, origin_time)\u001b[0m\n\u001b[1;32m     49\u001b[0m \u001b[0;34m\u001b[0m\u001b[0m\n\u001b[1;32m     50\u001b[0m     \u001b[0mtimestamps\u001b[0m \u001b[0;34m=\u001b[0m \u001b[0;34m[\u001b[0m\u001b[0;34m]\u001b[0m\u001b[0;34m\u001b[0m\u001b[0;34m\u001b[0m\u001b[0m\n\u001b[0;32m---> 51\u001b[0;31m     \u001b[0;32mwith\u001b[0m \u001b[0mopen\u001b[0m\u001b[0;34m(\u001b[0m\u001b[0mtimestamps_path\u001b[0m\u001b[0;34m)\u001b[0m \u001b[0;32mas\u001b[0m \u001b[0mtimestamps_file\u001b[0m\u001b[0;34m:\u001b[0m\u001b[0;34m\u001b[0m\u001b[0;34m\u001b[0m\u001b[0m\n\u001b[0m\u001b[1;32m     52\u001b[0m         \u001b[0;32mfor\u001b[0m \u001b[0mline\u001b[0m \u001b[0;32min\u001b[0m \u001b[0mtimestamps_file\u001b[0m\u001b[0;34m:\u001b[0m\u001b[0;34m\u001b[0m\u001b[0;34m\u001b[0m\u001b[0m\n\u001b[1;32m     53\u001b[0m             \u001b[0mtimestamp\u001b[0m \u001b[0;34m=\u001b[0m \u001b[0mint\u001b[0m\u001b[0;34m(\u001b[0m\u001b[0mline\u001b[0m\u001b[0;34m.\u001b[0m\u001b[0msplit\u001b[0m\u001b[0;34m(\u001b[0m\u001b[0;34m' '\u001b[0m\u001b[0;34m)\u001b[0m\u001b[0;34m[\u001b[0m\u001b[0;36m0\u001b[0m\u001b[0;34m]\u001b[0m\u001b[0;34m)\u001b[0m\u001b[0;34m\u001b[0m\u001b[0;34m\u001b[0m\u001b[0m\n",
      "\u001b[0;31mFileNotFoundError\u001b[0m: [Errno 2] No such file or directory: '/home/ios/data/oxford_sample/ldmrs/../ldmrs.timestamps'"
     ]
    }
   ],
   "source": [
    "sec = 1\n",
    "pointcloud, reflectance, poses = build_pointcloud(lidar_dir, poses_file, extrinsics_dir, 1418381798113072, 1418381798113072 + sec * 1000 * 1000, origin_time=-1)\n",
    "pointcloud.shape"
   ]
  },
  {
   "cell_type": "code",
   "execution_count": null,
   "id": "2223be78",
   "metadata": {},
   "outputs": [],
   "source": [
    "for i in range(5):\n",
    "    print( poses[i][:, 3] ) # Ts "
   ]
  },
  {
   "cell_type": "code",
   "execution_count": 16,
   "id": "c8093d15",
   "metadata": {},
   "outputs": [
    {
     "ename": "NameError",
     "evalue": "name 'pointcloud' is not defined",
     "output_type": "error",
     "traceback": [
      "\u001b[0;31m---------------------------------------------------------------------------\u001b[0m",
      "\u001b[0;31mNameError\u001b[0m                                 Traceback (most recent call last)",
      "\u001b[0;32m<ipython-input-16-a5d2392a10ea>\u001b[0m in \u001b[0;36m<module>\u001b[0;34m\u001b[0m\n\u001b[0;32m----> 1\u001b[0;31m \u001b[0mpc\u001b[0m \u001b[0;34m=\u001b[0m \u001b[0mnp\u001b[0m\u001b[0;34m.\u001b[0m\u001b[0masarray\u001b[0m\u001b[0;34m(\u001b[0m\u001b[0mpointcloud\u001b[0m\u001b[0;34m.\u001b[0m\u001b[0mT\u001b[0m\u001b[0;34m[\u001b[0m\u001b[0;34m:\u001b[0m\u001b[0;34m,\u001b[0m \u001b[0;34m:\u001b[0m\u001b[0;36m3\u001b[0m\u001b[0;34m]\u001b[0m\u001b[0;34m.\u001b[0m\u001b[0mastype\u001b[0m\u001b[0;34m(\u001b[0m\u001b[0mnp\u001b[0m\u001b[0;34m.\u001b[0m\u001b[0mfloat32\u001b[0m\u001b[0;34m)\u001b[0m\u001b[0;34m)\u001b[0m\u001b[0;34m\u001b[0m\u001b[0;34m\u001b[0m\u001b[0m\n\u001b[0m\u001b[1;32m      2\u001b[0m \u001b[0mmeshplot\u001b[0m\u001b[0;34m.\u001b[0m\u001b[0mplot\u001b[0m\u001b[0;34m(\u001b[0m\u001b[0mpc\u001b[0m\u001b[0;34m,\u001b[0m \u001b[0mc\u001b[0m\u001b[0;34m=\u001b[0m\u001b[0mpc\u001b[0m\u001b[0;34m[\u001b[0m\u001b[0;34m:\u001b[0m\u001b[0;34m,\u001b[0m \u001b[0;36m1\u001b[0m\u001b[0;34m]\u001b[0m\u001b[0;34m,\u001b[0m \u001b[0mshading\u001b[0m\u001b[0;34m=\u001b[0m\u001b[0;34m{\u001b[0m\u001b[0;34m\"point_size\"\u001b[0m\u001b[0;34m:\u001b[0m \u001b[0;36m0.5\u001b[0m\u001b[0;34m,\u001b[0m \u001b[0;34m\"width\"\u001b[0m\u001b[0;34m:\u001b[0m \u001b[0;36m800\u001b[0m\u001b[0;34m,\u001b[0m \u001b[0;34m\"height\"\u001b[0m\u001b[0;34m:\u001b[0m \u001b[0;36m800\u001b[0m\u001b[0;34m}\u001b[0m\u001b[0;34m)\u001b[0m\u001b[0;34m\u001b[0m\u001b[0;34m\u001b[0m\u001b[0m\n",
      "\u001b[0;31mNameError\u001b[0m: name 'pointcloud' is not defined"
     ]
    }
   ],
   "source": [
    "pc = np.asarray(pointcloud.T[:, :3].astype(np.float32))\n",
    "meshplot.plot(pc, c=pc[:, 1], shading={\"point_size\": 0.5, \"width\": 800, \"height\": 800})"
   ]
  },
  {
   "cell_type": "code",
   "execution_count": 13,
   "id": "6cc2b7f5",
   "metadata": {},
   "outputs": [
    {
     "ename": "NameError",
     "evalue": "name 'pc' is not defined",
     "output_type": "error",
     "traceback": [
      "\u001b[0;31m---------------------------------------------------------------------------\u001b[0m",
      "\u001b[0;31mNameError\u001b[0m                                 Traceback (most recent call last)",
      "\u001b[0;32m<ipython-input-13-841e10b018af>\u001b[0m in \u001b[0;36m<module>\u001b[0;34m\u001b[0m\n\u001b[1;32m     61\u001b[0m \u001b[0;34m\u001b[0m\u001b[0m\n\u001b[1;32m     62\u001b[0m \u001b[0;34m\u001b[0m\u001b[0m\n\u001b[0;32m---> 63\u001b[0;31m \u001b[0mkeypoints\u001b[0m \u001b[0;34m=\u001b[0m \u001b[0mget_iis_keypoints\u001b[0m\u001b[0;34m(\u001b[0m\u001b[0mpc\u001b[0m\u001b[0;34m)\u001b[0m\u001b[0;34m\u001b[0m\u001b[0;34m\u001b[0m\u001b[0m\n\u001b[0m\u001b[1;32m     64\u001b[0m \u001b[0mvolumes\u001b[0m \u001b[0;34m=\u001b[0m \u001b[0mget_volumes\u001b[0m\u001b[0;34m(\u001b[0m\u001b[0mkeypoints\u001b[0m\u001b[0;34m,\u001b[0m \u001b[0mpc\u001b[0m\u001b[0;34m)\u001b[0m\u001b[0;34m\u001b[0m\u001b[0;34m\u001b[0m\u001b[0m\n\u001b[1;32m     65\u001b[0m \u001b[0mkp\u001b[0m \u001b[0;34m=\u001b[0m \u001b[0mget_sift_keypoints\u001b[0m\u001b[0;34m(\u001b[0m\u001b[0mIM\u001b[0m\u001b[0;34m[\u001b[0m\u001b[0;36m0\u001b[0m\u001b[0;34m]\u001b[0m\u001b[0;34m,\u001b[0m \u001b[0msift\u001b[0m\u001b[0;34m=\u001b[0m\u001b[0mcv2\u001b[0m\u001b[0;34m.\u001b[0m\u001b[0mSIFT_create\u001b[0m\u001b[0;34m(\u001b[0m\u001b[0;34m)\u001b[0m\u001b[0;34m)\u001b[0m\u001b[0;34m\u001b[0m\u001b[0;34m\u001b[0m\u001b[0m\n",
      "\u001b[0;31mNameError\u001b[0m: name 'pc' is not defined"
     ]
    }
   ],
   "source": [
    "from sklearn.neighbors import NearestNeighbors\n",
    "\n",
    "def get_iis_keypoints(pc):\n",
    "    pcd = open3d.geometry.PointCloud()\n",
    "    pcd.points = open3d.utility.Vector3dVector(pc)\n",
    "    keypoints = open3d.geometry.keypoint.compute_iss_keypoints(pcd,\n",
    "                                                            salient_radius=0.03,\n",
    "                                                            non_max_radius=0.03,\n",
    "                                                            gamma_21=0.5,\n",
    "                                                            gamma_32=0.5)\n",
    "    keypoints = np.asarray(keypoints.points)\n",
    "    keypoints.shape\n",
    "    return keypoints\n",
    "\n",
    "\n",
    "def get_volumes(keypoints, pc, radius=1):\n",
    "    rnr = NearestNeighbors(radius=1)\n",
    "    rnr.fit(pc)\n",
    "    points, idx = rnr.radius_neighbors(keypoints)\n",
    "    volumes = []\n",
    "    for i in range(len(idx)):\n",
    "        points = pc[np.asarray(idx[i])]\n",
    "        points -= points.mean(0)\n",
    "        volumes.append(points)\n",
    "    return volumes\n",
    "\n",
    "def get_sift_keypoints(im, sift=cv2.SIFT_create()):\n",
    "    assert im.shape[2] == 3\n",
    "\n",
    "    def unpackSIFTOctave(kpt):\n",
    "        \"\"\"unpackSIFTOctave(kpt)->(octave,layer,scale)\n",
    "        @created by Silencer at 2018.01.23 11:12:30 CST\n",
    "        @brief Unpack Sift Keypoint by Silencer\n",
    "        @param kpt: cv2.KeyPoint (of SIFT)\n",
    "        \"\"\"\n",
    "        _octave = kpt.octave\n",
    "        octave = _octave&0xFF\n",
    "        layer  = (_octave>>8)&0xFF\n",
    "        if octave>=128:\n",
    "            octave |= -128\n",
    "        if octave>=0:\n",
    "            scale = float(1/(1<<octave))\n",
    "        else:\n",
    "            scale = float(1<<-octave)\n",
    "        return (octave, layer, scale)\n",
    "    \n",
    "    gray = cv2.cvtColor(im, cv2.COLOR_RGB2GRAY)\n",
    "    kp = sift.detect(gray, None)\n",
    "    return [(*unpackSIFTOctave(kpt), int(kpt.pt[0]),int(kpt.pt[1]))  for kpt in kp]\n",
    "    \n",
    "\n",
    "def get_patches(keypoints, IM, basic_shape=(256, 256)):\n",
    "    patches = []\n",
    "    for kp in keypoints:\n",
    "        octave, layer, scale, x, y = kp \n",
    "        shp = int(basic_shape[0] * scale // 2)\n",
    "        patch = IM[y-shp:y+shp,x-shp:x+shp]    \n",
    "        if len(patch.flatten()) > 0:\n",
    "            patches.append(patch)\n",
    "    return patches    \n",
    "\n",
    "\n",
    "keypoints = get_iis_keypoints(pc)\n",
    "volumes = get_volumes(keypoints, pc)\n",
    "kp = get_sift_keypoints(IM[0], sift=cv2.SIFT_create())\n",
    "patches = get_patches(kp, IM[0])"
   ]
  },
  {
   "cell_type": "code",
   "execution_count": null,
   "id": "1f6703b2",
   "metadata": {},
   "outputs": [],
   "source": [
    "plt.imshow(patches[12])"
   ]
  },
  {
   "cell_type": "code",
   "execution_count": 15,
   "id": "3841fcf5",
   "metadata": {},
   "outputs": [
    {
     "ename": "NameError",
     "evalue": "name 'volumes' is not defined",
     "output_type": "error",
     "traceback": [
      "\u001b[0;31m---------------------------------------------------------------------------\u001b[0m",
      "\u001b[0;31mNameError\u001b[0m                                 Traceback (most recent call last)",
      "\u001b[0;32m<ipython-input-15-99aa94be1efe>\u001b[0m in \u001b[0;36m<module>\u001b[0;34m\u001b[0m\n\u001b[0;32m----> 1\u001b[0;31m \u001b[0mmeshplot\u001b[0m\u001b[0;34m.\u001b[0m\u001b[0mplot\u001b[0m\u001b[0;34m(\u001b[0m\u001b[0mvolumes\u001b[0m\u001b[0;34m[\u001b[0m\u001b[0;36m0\u001b[0m\u001b[0;34m]\u001b[0m\u001b[0;34m,\u001b[0m \u001b[0mc\u001b[0m\u001b[0;34m=\u001b[0m\u001b[0mvolumes\u001b[0m\u001b[0;34m[\u001b[0m\u001b[0;36m0\u001b[0m\u001b[0;34m]\u001b[0m\u001b[0;34m[\u001b[0m\u001b[0;34m:\u001b[0m\u001b[0;34m,\u001b[0m \u001b[0;36m1\u001b[0m\u001b[0;34m]\u001b[0m\u001b[0;34m,\u001b[0m \u001b[0mshading\u001b[0m\u001b[0;34m=\u001b[0m\u001b[0;34m{\u001b[0m\u001b[0;34m\"point_size\"\u001b[0m\u001b[0;34m:\u001b[0m \u001b[0;36m0.5\u001b[0m\u001b[0;34m,\u001b[0m \u001b[0;34m\"width\"\u001b[0m\u001b[0;34m:\u001b[0m \u001b[0;36m300\u001b[0m\u001b[0;34m,\u001b[0m \u001b[0;34m\"height\"\u001b[0m\u001b[0;34m:\u001b[0m \u001b[0;36m300\u001b[0m\u001b[0;34m}\u001b[0m\u001b[0;34m)\u001b[0m\u001b[0;34m\u001b[0m\u001b[0;34m\u001b[0m\u001b[0m\n\u001b[0m",
      "\u001b[0;31mNameError\u001b[0m: name 'volumes' is not defined"
     ]
    }
   ],
   "source": [
    "meshplot.plot(volumes[0], c=volumes[0][:, 1], shading={\"point_size\": 0.5, \"width\": 300, \"height\": 300})"
   ]
  },
  {
   "cell_type": "code",
   "execution_count": null,
   "id": "eeb1574b",
   "metadata": {},
   "outputs": [],
   "source": []
  }
 ],
 "metadata": {
  "kernelspec": {
   "display_name": "Python 3",
   "language": "python",
   "name": "python3"
  },
  "language_info": {
   "codemirror_mode": {
    "name": "ipython",
    "version": 3
   },
   "file_extension": ".py",
   "mimetype": "text/x-python",
   "name": "python",
   "nbconvert_exporter": "python",
   "pygments_lexer": "ipython3",
   "version": "3.7.9"
  }
 },
 "nbformat": 4,
 "nbformat_minor": 5
}
