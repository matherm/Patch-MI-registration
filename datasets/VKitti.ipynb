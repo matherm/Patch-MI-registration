{
 "cells": [
  {
   "cell_type": "code",
   "execution_count": 240,
   "id": "virtual-resolution",
   "metadata": {},
   "outputs": [
    {
     "name": "stdout",
     "output_type": "stream",
     "text": [
      "The autoreload extension is already loaded. To reload it, use:\n",
      "  %reload_ext autoreload\n"
     ]
    }
   ],
   "source": [
    "%load_ext autoreload\n",
    "%autoreload 2\n",
    "import sys\n",
    "sys.path.append(\"../rgbd-reg\")\n",
    "\n",
    "import torch\n",
    "import numpy as np\n",
    "\n",
    "from vkitti import vkitti"
   ]
  },
  {
   "cell_type": "code",
   "execution_count": 277,
   "id": "amended-budapest",
   "metadata": {},
   "outputs": [
    {
     "name": "stdout",
     "output_type": "stream",
     "text": [
      "extracting tar ...\n",
      "extracting tar ...\n",
      "loading images...\n",
      "loading images...\n",
      "loading params...\n",
      "loading params...\n"
     ]
    }
   ],
   "source": [
    "dset = vkitti(\"/home/ios/data/\", True, download=True)\n",
    "dl = torch.utils.data.DataLoader(dset, shuffle=True)"
   ]
  },
  {
   "cell_type": "code",
   "execution_count": 278,
   "id": "satisfied-google",
   "metadata": {},
   "outputs": [
    {
     "data": {
      "text/plain": [
       "(tensor([[[ 0.9277,  0.9277,  0.9277,  ..., -0.8209, -0.7673, -0.5849],\n",
       "          [ 0.9277,  0.9277,  0.9277,  ..., -0.8424, -0.7780, -0.6493],\n",
       "          [ 0.9385,  0.9385,  0.9385,  ..., -0.8424, -0.8209, -0.7673],\n",
       "          ...,\n",
       "          [ 1.2818,  1.2818,  1.2818,  ..., -1.1964, -1.1964, -1.1964],\n",
       "          [ 1.2710,  1.2710,  1.2818,  ..., -1.1964, -1.1964, -1.1964],\n",
       "          [ 1.2710,  1.2710,  1.2818,  ..., -1.1964, -1.1964, -1.1964]]]),\n",
       " tensor([[[65535., 65535., 65535.,  ...,   995.,   993.,   990.],\n",
       "          [65535., 65535., 65535.,  ...,   995.,   993.,   991.],\n",
       "          [65535., 65535., 65535.,  ...,   995.,   993.,   991.],\n",
       "          ...,\n",
       "          [  808.,   809.,   810.,  ...,   355.,   354.,   354.],\n",
       "          [  808.,   809.,   810.,  ...,   355.,   354.,   354.],\n",
       "          [  808.,   808.,   809.,  ...,   355.,   354.,   354.]]]),\n",
       " array([  0.    ,   0.    , 725.0087, 725.0087, 620.5   , 187.    ]),\n",
       " array([ 0.000000e+00,  0.000000e+00, -8.019686e-03,  7.217909e-02,\n",
       "        -9.973595e-01,  7.494453e+00, -9.896867e-04,  9.973904e-01,\n",
       "         7.218930e-02,  1.124036e+02,  9.999674e-01,  1.566000e-03,\n",
       "        -7.927299e-03, -7.717823e-01,  0.000000e+00,  0.000000e+00,\n",
       "         0.000000e+00,  1.000000e+00]))"
      ]
     },
     "execution_count": 278,
     "metadata": {},
     "output_type": "execute_result"
    }
   ],
   "source": [
    "x = dl.dataset[0]#next(iter(dl))\n",
    "x"
   ]
  },
  {
   "cell_type": "code",
   "execution_count": 279,
   "id": "employed-puzzle",
   "metadata": {},
   "outputs": [
    {
     "data": {
      "text/plain": [
       "tensor([[65535., 65535., 65535.,  ...,   995.,   993.,   990.],\n",
       "        [65535., 65535., 65535.,  ...,   995.,   993.,   991.],\n",
       "        [65535., 65535., 65535.,  ...,   995.,   993.,   991.],\n",
       "        ...,\n",
       "        [  808.,   809.,   810.,  ...,   355.,   354.,   354.],\n",
       "        [  808.,   809.,   810.,  ...,   355.,   354.,   354.],\n",
       "        [  808.,   808.,   809.,  ...,   355.,   354.,   354.]])"
      ]
     },
     "execution_count": 279,
     "metadata": {},
     "output_type": "execute_result"
    }
   ],
   "source": [
    "gray = x[0][0].squeeze()\n",
    "d = x[1][0].squeeze()\n",
    "d"
   ]
  },
  {
   "cell_type": "code",
   "execution_count": 280,
   "id": "decimal-albania",
   "metadata": {},
   "outputs": [
    {
     "data": {
      "text/plain": [
       "array([725.0087, 725.0087, 620.5   , 187.    ])"
      ]
     },
     "execution_count": 280,
     "metadata": {},
     "output_type": "execute_result"
    }
   ],
   "source": [
    "intr = x[2][2:]\n",
    "intr"
   ]
  },
  {
   "cell_type": "code",
   "execution_count": 281,
   "id": "threaded-hours",
   "metadata": {},
   "outputs": [
    {
     "data": {
      "text/plain": [
       "array([[725.0087,   0.    , 725.0087,   0.    ],\n",
       "       [  0.    , 620.5   , 187.    ,   0.    ],\n",
       "       [  0.    ,   0.    ,   1.    ,   0.    ],\n",
       "       [  0.    ,   0.    ,   0.    ,   1.    ]])"
      ]
     },
     "execution_count": 281,
     "metadata": {},
     "output_type": "execute_result"
    }
   ],
   "source": [
    "intr = np.insert(intr, (1, 2), (0))\n",
    "intr = np.append(intr, (0, 0, 1))\n",
    "intr = intr.reshape(3, 3)\n",
    "intr = np.hstack((intr, [[0], [0], [0]]))\n",
    "intr = np.vstack((intr, [0, 0, 0, 1]))\n",
    "intr"
   ]
  },
  {
   "cell_type": "code",
   "execution_count": 282,
   "id": "elect-permit",
   "metadata": {},
   "outputs": [],
   "source": [
    "point = d[10, 10] * np.linalg.inv(intr) @ np.array((10, 10, 1, 1/d[10, 10]))"
   ]
  },
  {
   "cell_type": "code",
   "execution_count": 283,
   "id": "infectious-steam",
   "metadata": {},
   "outputs": [
    {
     "data": {
      "text/plain": [
       "tensor([-6.4631e+04, -1.8694e+04,  6.5535e+04,  1.0000e+00],\n",
       "       dtype=torch.float64)"
      ]
     },
     "execution_count": 283,
     "metadata": {},
     "output_type": "execute_result"
    }
   ],
   "source": [
    "point"
   ]
  },
  {
   "cell_type": "code",
   "execution_count": 284,
   "id": "naval-angel",
   "metadata": {},
   "outputs": [
    {
     "data": {
      "text/plain": [
       "array([[-8.019686e-03,  7.217909e-02, -9.973595e-01,  7.494453e+00],\n",
       "       [-9.896867e-04,  9.973904e-01,  7.218930e-02,  1.124036e+02],\n",
       "       [ 9.999674e-01,  1.566000e-03, -7.927299e-03, -7.717823e-01],\n",
       "       [ 0.000000e+00,  0.000000e+00,  0.000000e+00,  1.000000e+00]])"
      ]
     },
     "execution_count": 284,
     "metadata": {},
     "output_type": "execute_result"
    }
   ],
   "source": [
    "extr = x[3][2:]\n",
    "extr = extr.reshape(4, 4)\n",
    "extr"
   ]
  },
  {
   "cell_type": "code",
   "execution_count": 285,
   "id": "democratic-bandwidth",
   "metadata": {},
   "outputs": [],
   "source": [
    "pix = 1/point[2] * intr @ point"
   ]
  },
  {
   "cell_type": "code",
   "execution_count": 286,
   "id": "recorded-georgia",
   "metadata": {},
   "outputs": [],
   "source": [
    "pix /= 1/point[3]"
   ]
  },
  {
   "cell_type": "code",
   "execution_count": 287,
   "id": "threatened-parallel",
   "metadata": {},
   "outputs": [
    {
     "data": {
      "text/plain": [
       "tensor([1.0000e+01, 1.0000e+01, 1.0000e+00, 1.5259e-05], dtype=torch.float64)"
      ]
     },
     "execution_count": 287,
     "metadata": {},
     "output_type": "execute_result"
    }
   ],
   "source": [
    "pix"
   ]
  },
  {
   "cell_type": "code",
   "execution_count": 267,
   "id": "about-buffer",
   "metadata": {},
   "outputs": [
    {
     "data": {
      "text/plain": [
       "(tensor([[[ 0.9350,  0.9350,  0.9350,  ..., -0.5285, -0.5931, -0.5285],\n",
       "          [ 0.9350,  0.9350,  0.9350,  ..., -0.4101, -0.6146, -0.6038],\n",
       "          [ 0.9350,  0.9350,  0.9350,  ..., -0.5500, -0.6146, -0.5715],\n",
       "          ...,\n",
       "          [ 1.3009,  1.3009,  1.3009,  ..., -1.2172, -1.2279, -1.1096],\n",
       "          [ 1.3116,  1.3116,  1.3116,  ..., -1.1957, -1.2172, -1.1741],\n",
       "          [ 1.3224,  1.3224,  1.3224,  ..., -1.1849, -1.1957, -1.2172]]]),\n",
       " tensor([[[ 2.0187,  2.0187,  2.0187,  ..., -0.5281, -0.5282, -0.5282],\n",
       "          [ 2.0187,  2.0187,  2.0187,  ..., -0.5280, -0.5282, -0.5282],\n",
       "          [ 2.0187,  2.0187,  2.0187,  ..., -0.5280, -0.5282, -0.5282],\n",
       "          ...,\n",
       "          [-0.5356, -0.5356, -0.5355,  ..., -0.5538, -0.5538, -0.5538],\n",
       "          [-0.5356, -0.5356, -0.5355,  ..., -0.5537, -0.5537, -0.5537],\n",
       "          [-0.5356, -0.5356, -0.5355,  ..., -0.5537, -0.5537, -0.5537]]]),\n",
       " array([  0.    ,   1.    , 725.0087, 725.0087, 620.5   , 187.    ]),\n",
       " array([ 0.000000e+00,  1.000000e+00, -8.019686e-03,  7.217909e-02,\n",
       "        -9.973595e-01,  6.961728e+00, -9.896867e-04,  9.973904e-01,\n",
       "         7.218930e-02,  1.124036e+02,  9.999674e-01,  1.566000e-03,\n",
       "        -7.927299e-03, -7.717823e-01,  0.000000e+00,  0.000000e+00,\n",
       "         0.000000e+00,  1.000000e+00]))"
      ]
     },
     "execution_count": 267,
     "metadata": {},
     "output_type": "execute_result"
    }
   ],
   "source": [
    "x = dl.dataset[1]#next(iter(dl))\n",
    "x"
   ]
  },
  {
   "cell_type": "code",
   "execution_count": 268,
   "id": "union-india",
   "metadata": {},
   "outputs": [
    {
     "data": {
      "text/plain": [
       "array([[-8.019686e-03,  7.217909e-02, -9.973595e-01,  6.961728e+00],\n",
       "       [-9.896867e-04,  9.973904e-01,  7.218930e-02,  1.124036e+02],\n",
       "       [ 9.999674e-01,  1.566000e-03, -7.927299e-03, -7.717823e-01],\n",
       "       [ 0.000000e+00,  0.000000e+00,  0.000000e+00,  1.000000e+00]])"
      ]
     },
     "execution_count": 268,
     "metadata": {},
     "output_type": "execute_result"
    }
   ],
   "source": [
    "extr = x[3][2:]\n",
    "extr = extr.reshape(4, 4)\n",
    "extr"
   ]
  },
  {
   "cell_type": "code",
   "execution_count": 269,
   "id": "similar-auckland",
   "metadata": {},
   "outputs": [
    {
     "data": {
      "text/plain": [
       "(tensor([[[ 0.9634,  0.9634,  0.9634,  ..., -0.6102, -0.5779, -0.5347],\n",
       "          [ 0.9634,  0.9634,  0.9634,  ..., -0.6856, -0.5994, -0.5455],\n",
       "          [ 0.9634,  0.9634,  0.9634,  ..., -0.6641, -0.5455, -0.4916],\n",
       "          ...,\n",
       "          [ 1.2652,  1.2652,  1.2652,  ..., -1.0844, -1.0844, -1.0844],\n",
       "          [ 1.2760,  1.2760,  1.2760,  ..., -1.0952, -1.0844, -1.0844],\n",
       "          [ 1.2868,  1.2976,  1.2976,  ..., -1.0952, -1.0844, -1.0844]]]),\n",
       " tensor([[[ 2.0461,  2.0461,  2.0461,  ..., -0.5220, -0.5221, -0.5222],\n",
       "          [ 2.0461,  2.0461,  2.0461,  ..., -0.5220, -0.5221, -0.5222],\n",
       "          [ 2.0461,  2.0461,  2.0461,  ..., -0.5220, -0.5221, -0.5222],\n",
       "          ...,\n",
       "          [-0.5298, -0.5298, -0.5298,  ..., -0.5488, -0.5489, -0.5489],\n",
       "          [-0.5298, -0.5298, -0.5298,  ..., -0.5488, -0.5489, -0.5489],\n",
       "          [-0.5298, -0.5298, -0.5298,  ..., -0.5488, -0.5489, -0.5489]]]),\n",
       " array([  1.    ,   0.    , 725.0087, 725.0087, 620.5   , 187.    ]),\n",
       " array([ 1.000000e+00,  0.000000e+00, -7.779241e-03,  7.307380e-02,\n",
       "        -9.972962e-01,  7.283874e+00,  6.943159e-04,  9.973266e-01,\n",
       "         7.307061e-02,  1.124180e+02,  9.999694e-01, -1.240000e-04,\n",
       "        -7.809162e-03, -2.094175e+00,  0.000000e+00,  0.000000e+00,\n",
       "         0.000000e+00,  1.000000e+00]))"
      ]
     },
     "execution_count": 269,
     "metadata": {},
     "output_type": "execute_result"
    }
   ],
   "source": [
    "x = dl.dataset[2]#next(iter(dl))\n",
    "x"
   ]
  },
  {
   "cell_type": "code",
   "execution_count": 270,
   "id": "loose-scenario",
   "metadata": {},
   "outputs": [
    {
     "data": {
      "text/plain": [
       "array([[-7.779241e-03,  7.307380e-02, -9.972962e-01,  7.283874e+00],\n",
       "       [ 6.943159e-04,  9.973266e-01,  7.307061e-02,  1.124180e+02],\n",
       "       [ 9.999694e-01, -1.240000e-04, -7.809162e-03, -2.094175e+00],\n",
       "       [ 0.000000e+00,  0.000000e+00,  0.000000e+00,  1.000000e+00]])"
      ]
     },
     "execution_count": 270,
     "metadata": {},
     "output_type": "execute_result"
    }
   ],
   "source": [
    "extr = x[3][2:]\n",
    "extr = extr.reshape(4, 4)\n",
    "extr"
   ]
  },
  {
   "cell_type": "code",
   "execution_count": 271,
   "id": "restricted-fighter",
   "metadata": {},
   "outputs": [
    {
     "data": {
      "text/plain": [
       "(tensor([[[ 1.0267,  1.0267,  1.0267,  ..., -0.5449, -0.3390, -0.5016],\n",
       "          [ 1.0267,  1.0267,  1.0267,  ..., -0.4907, -0.3823, -0.4474],\n",
       "          [ 1.0267,  1.0267,  1.0267,  ..., -0.5341, -0.3823, -0.3606],\n",
       "          ...,\n",
       "          [ 1.2977,  1.1893,  1.1351,  ..., -1.1519, -1.1519, -1.1519],\n",
       "          [ 0.6365,  0.6907,  0.4306,  ..., -1.1410, -1.1519, -1.1519],\n",
       "          [ 0.1704,  0.3981,  0.4631,  ..., -1.1410, -1.1519, -1.1519]]]),\n",
       " tensor([[[ 2.0950,  2.0950,  2.0950,  ..., -0.5116, -0.5117, -0.5118],\n",
       "          [ 2.0950,  2.0950,  2.0950,  ..., -0.5116, -0.5117, -0.5118],\n",
       "          [ 2.0950,  2.0950,  2.0950,  ..., -0.5116, -0.5117, -0.5118],\n",
       "          ...,\n",
       "          [-0.5199, -0.5199, -0.5199,  ..., -0.5395, -0.5396, -0.5396],\n",
       "          [-0.5200, -0.5201, -0.5201,  ..., -0.5395, -0.5396, -0.5396],\n",
       "          [-0.5203, -0.5203, -0.5203,  ..., -0.5395, -0.5396, -0.5396]]]),\n",
       " array([  2.    ,   0.    , 725.0087, 725.0087, 620.5   , 187.    ]),\n",
       " array([ 2.000000e+00,  0.000000e+00, -8.015394e-03,  6.971319e-02,\n",
       "        -9.975349e-01,  6.626684e+00, -1.972947e-03,  9.975639e-01,\n",
       "         6.973107e-02,  1.124692e+02,  9.999660e-01,  2.527006e-03,\n",
       "        -7.858276e-03, -2.832348e+00,  0.000000e+00,  0.000000e+00,\n",
       "         0.000000e+00,  1.000000e+00]))"
      ]
     },
     "execution_count": 271,
     "metadata": {},
     "output_type": "execute_result"
    }
   ],
   "source": [
    "x = dl.dataset[4]#next(iter(dl))\n",
    "x"
   ]
  },
  {
   "cell_type": "code",
   "execution_count": 272,
   "id": "packed-journalism",
   "metadata": {},
   "outputs": [
    {
     "data": {
      "text/plain": [
       "array([[-8.015394e-03,  6.971319e-02, -9.975349e-01,  6.626684e+00],\n",
       "       [-1.972947e-03,  9.975639e-01,  6.973107e-02,  1.124692e+02],\n",
       "       [ 9.999660e-01,  2.527006e-03, -7.858276e-03, -2.832348e+00],\n",
       "       [ 0.000000e+00,  0.000000e+00,  0.000000e+00,  1.000000e+00]])"
      ]
     },
     "execution_count": 272,
     "metadata": {},
     "output_type": "execute_result"
    }
   ],
   "source": [
    "extr = x[3][2:]\n",
    "extr = extr.reshape(4, 4)\n",
    "extr"
   ]
  },
  {
   "cell_type": "code",
   "execution_count": 273,
   "id": "democratic-circular",
   "metadata": {},
   "outputs": [
    {
     "data": {
      "text/plain": [
       "(tensor([[[ 1.0943,  1.0943,  1.0943,  ...,  1.2611,  1.2611,  1.2611],\n",
       "          [ 1.0943,  1.0943,  1.0943,  ...,  1.2611,  1.2611,  1.2611],\n",
       "          [ 1.0943,  1.0943,  1.0943,  ...,  1.2611,  1.2611,  1.2611],\n",
       "          ...,\n",
       "          [ 1.3946,  1.3946,  1.4503,  ..., -1.1976, -1.1865, -1.1865],\n",
       "          [ 1.4836,  1.3946,  1.3946,  ..., -1.1865, -1.1754, -1.1754],\n",
       "          [ 1.0052,  0.7160,  0.5602,  ..., -1.1865, -1.1865, -1.1865]]]),\n",
       " tensor([[[ 2.0965,  2.0965,  2.0965,  ...,  2.0965,  2.0965,  2.0965],\n",
       "          [ 2.0965,  2.0965,  2.0965,  ...,  2.0965,  2.0965,  2.0965],\n",
       "          [ 2.0965,  2.0965,  2.0965,  ...,  2.0965,  2.0965,  2.0965],\n",
       "          ...,\n",
       "          [-0.5218, -0.5218, -0.5217,  ..., -0.5381, -0.5381, -0.5381],\n",
       "          [-0.5218, -0.5218, -0.5217,  ..., -0.5380, -0.5381, -0.5381],\n",
       "          [-0.5218, -0.5218, -0.5218,  ..., -0.5380, -0.5381, -0.5381]]]),\n",
       " array([  3.    ,   0.    , 725.0087, 725.0087, 620.5   , 187.    ]),\n",
       " array([ 3.000000e+00,  0.000000e+00, -8.151174e-03,  6.922305e-02,\n",
       "        -9.975680e-01,  6.289214e+00, -6.129198e-03,  9.975789e-01,\n",
       "         6.927389e-02,  1.125098e+02,  9.999481e-01,  6.678950e-03,\n",
       "        -7.707238e-03, -3.399123e+00,  0.000000e+00,  0.000000e+00,\n",
       "         0.000000e+00,  1.000000e+00]))"
      ]
     },
     "execution_count": 273,
     "metadata": {},
     "output_type": "execute_result"
    }
   ],
   "source": [
    "x = dl.dataset[6]#next(iter(dl))\n",
    "x"
   ]
  },
  {
   "cell_type": "code",
   "execution_count": 274,
   "id": "arctic-thunder",
   "metadata": {},
   "outputs": [
    {
     "data": {
      "text/plain": [
       "array([[-8.151174e-03,  6.922305e-02, -9.975680e-01,  6.289214e+00],\n",
       "       [-6.129198e-03,  9.975789e-01,  6.927389e-02,  1.125098e+02],\n",
       "       [ 9.999481e-01,  6.678950e-03, -7.707238e-03, -3.399123e+00],\n",
       "       [ 0.000000e+00,  0.000000e+00,  0.000000e+00,  1.000000e+00]])"
      ]
     },
     "execution_count": 274,
     "metadata": {},
     "output_type": "execute_result"
    }
   ],
   "source": [
    "extr = x[3][2:]\n",
    "extr = extr.reshape(4, 4)\n",
    "extr"
   ]
  },
  {
   "cell_type": "code",
   "execution_count": null,
   "id": "coupled-salvation",
   "metadata": {},
   "outputs": [],
   "source": []
  }
 ],
 "metadata": {
  "kernelspec": {
   "display_name": "Python 3 (ipykernel)",
   "language": "python",
   "name": "python3"
  },
  "language_info": {
   "codemirror_mode": {
    "name": "ipython",
    "version": 3
   },
   "file_extension": ".py",
   "mimetype": "text/x-python",
   "name": "python",
   "nbconvert_exporter": "python",
   "pygments_lexer": "ipython3",
   "version": "3.7.7"
  }
 },
 "nbformat": 4,
 "nbformat_minor": 5
}
