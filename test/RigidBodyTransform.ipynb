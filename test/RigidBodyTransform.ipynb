{
 "cells": [
  {
   "cell_type": "code",
   "execution_count": 190,
   "id": "reasonable-wound",
   "metadata": {},
   "outputs": [
    {
     "data": {
      "text/plain": [
       "(array([[ 1.11022302e-16, -7.07106781e-01,  7.07106781e-01],\n",
       "        [ 8.66025404e-01, -3.53553391e-01, -3.53553391e-01],\n",
       "        [ 5.00000000e-01,  6.12372436e-01,  6.12372436e-01]]),\n",
       " array([[-1.72508955e-16, -7.07106781e-01,  7.07106781e-01],\n",
       "        [ 8.66025404e-01, -3.53553391e-01, -3.53553391e-01],\n",
       "        [ 5.00000000e-01,  6.12372436e-01,  6.12372436e-01]]),\n",
       " array([15, 10,  5]),\n",
       " array([15., 10.,  5.]),\n",
       " 2.3117070079741243e-15)"
      ]
     },
     "execution_count": 190,
     "metadata": {},
     "output_type": "execute_result"
    }
   ],
   "source": [
    "import numpy as np\n",
    "from sklearn.base import BaseEstimator, clone\n",
    "\n",
    "class RBT(BaseEstimator):\n",
    "    \n",
    " http://graphics.stanford.edu/~smr/ICP/comparison/eggert_comparison_mva97.pdf    def __init__(self, R = None, T = None):\n",
    "        self.R = R\n",
    "        self.T = T\n",
    "\n",
    "    \n",
    "    def fit(self, left, right):\n",
    "        \n",
    "        mu_left, mu_right = left.mean(0), right.mean(0)\n",
    "        \n",
    "        left_ = left - mu_left\n",
    "        right_ = right - mu_right\n",
    "        \n",
    "        corr_H = left_.T @ right_\n",
    "        U, S, VT = np.linalg.svd(corr_H)\n",
    "        \n",
    "        R = VT.T @ U.T\n",
    "        T = mu_right - R @ mu_left\n",
    "        \n",
    "        self.R = R\n",
    "        self.T = T\n",
    "        \n",
    "        return self\n",
    "\n",
    "    def score(self,  left, right):\n",
    "        R, T = self.R, self.T        \n",
    "        projected = (R @ (left).T).T + T\n",
    "        MSE = np.linalg.norm(right - projected, axis=1).mean()\n",
    "        return MSE\n",
    "    \n",
    "    def predict(self, left):\n",
    "        R, T = self.R, self.T   \n",
    "        projected = (R @ (left).T).T + T\n",
    "        return projected\n",
    "        \n",
    "\n",
    "# TEST\n",
    "from scipy.spatial.transform import Rotation as Rot\n",
    "test_points = np.random.normal(2, 2, (4, 3))       \n",
    "R = Rot.from_euler('zyx', [90, 45, 30], degrees=True).as_matrix()\n",
    "T = np.array([15, 10, 5])        \n",
    "test_points_trans = (R @ (test_points).T).T + T\n",
    "rst = RBT()\n",
    "\n",
    "rst.fit(test_points, test_points_trans)\n",
    "R, rst.R, T, rst.T, rst.score(test_points, test_points_trans)"
   ]
  },
  {
   "cell_type": "code",
   "execution_count": 191,
   "id": "motivated-effect",
   "metadata": {},
   "outputs": [
    {
     "data": {
      "text/plain": [
       "(3.340062884658763,\n",
       " RBT(R=array([[-2.07584781e-17, -7.07106781e-01,  7.07106781e-01],\n",
       "        [ 8.66025404e-01, -3.53553391e-01, -3.53553391e-01],\n",
       "        [ 5.00000000e-01,  6.12372436e-01,  6.12372436e-01]]),\n",
       "     T=array([15., 10.,  5.])))"
      ]
     },
     "execution_count": 191,
     "metadata": {},
     "output_type": "execute_result"
    }
   ],
   "source": [
    "from sklearn.linear_model import RANSACRegressor\n",
    "\n",
    "inlier_frac = 0.1\n",
    "\n",
    "outlier = np.random.normal(2, 2, (int(4 // inlier_frac), 3))     \n",
    "outlier_trans = (R @ (outlier).T).T + T    \n",
    "np.random.shuffle(outlier_trans)\n",
    "\n",
    "data_x = np.vstack([test_points, outlier]) \n",
    "data_y = np.vstack([test_points_trans, outlier_trans])                   \n",
    "\n",
    "reg = RANSACRegressor(random_state=0, \n",
    "                      base_estimator=RBT(), \n",
    "                      min_samples=4, \n",
    "                      residual_threshold=0.1, \n",
    "                      max_trials=10000, \n",
    "                      stop_n_inliers=10)\n",
    "\n",
    "reg.fit(data_x, data_y)\n",
    "reg.score(data_x, data_y), reg.estimator_"
   ]
  },
  {
   "cell_type": "code",
   "execution_count": null,
   "id": "opposite-miniature",
   "metadata": {},
   "outputs": [],
   "source": []
  },
  {
   "cell_type": "code",
   "execution_count": null,
   "id": "detailed-beads",
   "metadata": {},
   "outputs": [],
   "source": []
  }
 ],
 "metadata": {
  "kernelspec": {
   "display_name": "Python 3 (ipykernel)",
   "language": "python",
   "name": "python3"
  },
  "language_info": {
   "codemirror_mode": {
    "name": "ipython",
    "version": 3
   },
   "file_extension": ".py",
   "mimetype": "text/x-python",
   "name": "python",
   "nbconvert_exporter": "python",
   "pygments_lexer": "ipython3",
   "version": "3.7.7"
  }
 },
 "nbformat": 4,
 "nbformat_minor": 5
}
